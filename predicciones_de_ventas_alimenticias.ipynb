{
  "nbformat": 4,
  "nbformat_minor": 0,
  "metadata": {
    "colab": {
      "provenance": [],
      "mount_file_id": "1CSQnOWBTdty0Td7GfR5cqzVcDIQXFRAW",
      "authorship_tag": "ABX9TyMgW7LSPVc0mNdYnZu75J8H",
      "include_colab_link": true
    },
    "kernelspec": {
      "name": "python3",
      "display_name": "Python 3"
    },
    "language_info": {
      "name": "python"
    }
  },
  "cells": [
    {
      "cell_type": "markdown",
      "metadata": {
        "id": "view-in-github",
        "colab_type": "text"
      },
      "source": [
        "<a href=\"https://colab.research.google.com/github/SamuelCdna/-predicciones-de-ventas-alimenticias-/blob/master/predicciones_de_ventas_alimenticias.ipynb\" target=\"_parent\"><img src=\"https://colab.research.google.com/assets/colab-badge.svg\" alt=\"Open In Colab\"/></a>"
      ]
    },
    {
      "cell_type": "markdown",
      "source": [
        "# predicciones-de-ventas-alimenticias"
      ],
      "metadata": {
        "id": "tooiViXPAffs"
      }
    },
    {
      "cell_type": "code",
      "execution_count": 2,
      "metadata": {
        "id": "1Z7UDK8BAe0H"
      },
      "outputs": [],
      "source": [
        "import pandas as pd\n",
        "filename = \"/content/sales_predictions.csv\""
      ]
    },
    {
      "cell_type": "code",
      "source": [
        "df = pd.read_csv(filename) \n",
        "df.head() "
      ],
      "metadata": {
        "id": "SK5XGs5oBIbF"
      },
      "execution_count": null,
      "outputs": []
    }
  ]
}