{
  "nbformat": 4,
  "nbformat_minor": 0,
  "metadata": {
    "colab": {
      "provenance": []
    },
    "kernelspec": {
      "name": "python3",
      "display_name": "Python 3"
    },
    "language_info": {
      "name": "python"
    }
  },
  "cells": [
    {
      "cell_type": "markdown",
      "source": [
        "# predicciones-de-ventas-alimenticias"
      ],
      "metadata": {
        "id": "tooiViXPAffs"
      }
    },
    {
      "cell_type": "code",
      "execution_count": 2,
      "metadata": {
        "id": "1Z7UDK8BAe0H"
      },
      "outputs": [],
      "source": [
        "import pandas as pd\n",
        "filename = \"/content/sales_predictions.csv\""
      ]
    },
    {
      "cell_type": "code",
      "source": [
        "df = pd.read_csv(filename) \n",
        "df.head() "
      ],
      "metadata": {
        "id": "SK5XGs5oBIbF"
      },
      "execution_count": null,
      "outputs": []
    }
  ]
}